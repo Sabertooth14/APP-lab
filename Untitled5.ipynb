{
  "nbformat": 4,
  "nbformat_minor": 0,
  "metadata": {
    "colab": {
      "name": "Untitled5.ipynb",
      "provenance": [],
      "authorship_tag": "ABX9TyOzrmV+X30VaRlqpzON48pT",
      "include_colab_link": true
    },
    "kernelspec": {
      "name": "python3",
      "display_name": "Python 3"
    },
    "language_info": {
      "name": "python"
    }
  },
  "cells": [
    {
      "cell_type": "markdown",
      "metadata": {
        "id": "view-in-github",
        "colab_type": "text"
      },
      "source": [
        "<a href=\"https://colab.research.google.com/github/Sabertooth14/APP-lab/blob/main/Untitled5.ipynb\" target=\"_parent\"><img src=\"https://colab.research.google.com/assets/colab-badge.svg\" alt=\"Open In Colab\"/></a>"
      ]
    },
    {
      "cell_type": "code",
      "execution_count": 13,
      "metadata": {
        "colab": {
          "base_uri": "https://localhost:8080/"
        },
        "id": "Mz-lChJf3yuM",
        "outputId": "f6dffa5d-67ea-4b1c-fc09-c9ed92bf9570"
      },
      "outputs": [
        {
          "output_type": "stream",
          "name": "stdout",
          "text": [
            "('Pranav', 12, 'Microsoft')\n"
          ]
        }
      ],
      "source": [
        "import sqlite3\n",
        "con  = sqlite3.connect('Developer db')\n",
        "c=con.cursor()\n",
        "# c.execute(\"Create table dev1(Prgramming language text, Duration int, Consultancy text )\")\n",
        "c.execute(\"insert into dev1 values('Pranav',12,'Microsoft')\")\n",
        "c.execute(\"insert into dev1 values('Mihir',10,'SAP')\")\n",
        "c.execute(\"insert into dev1 values('Darsh',11,'Oracle')\")\n",
        "c.execute(\"select * from dev1\")\n",
        "con.commit()\n",
        "# print(c.fetchall())\n",
        "# print(c.fetchmany(2))\n",
        "print(c.fetchone())\n",
        "\n"
      ]
    },
    {
      "cell_type": "code",
      "source": [
        "cam = sqlite3.connect('Devleopr db')\n",
        "a = cam.cursor()\n",
        "# a.execute(\"Create table patient(ID int,Name text, bed int, Disease text) \")\n",
        "a.execute(\"insert into patient values(10,'Mayo',204,'Accident')\")\n",
        "a.execute(\"insert into patient values(11,'John',205,'Diabetes')\")\n",
        "a.execute(\"insert into patient values(12,'Walter',207,'Parkisnons')\")\n",
        "a.execute(\"insert into patient values(13,'WillSmith',208,'Night blindness')\")\n",
        "a.execute(\"insert into patient values(14,'Danny',209,'Rickets')\")\n",
        "a.execute(\"select * from patient\")\n",
        "cam.commit()\n",
        "#print(a.fetchall())\n"
      ],
      "metadata": {
        "id": "mvbIMuQz7izr",
        "outputId": "0581cb23-fa08-4572-a540-16832af9eed1",
        "colab": {
          "base_uri": "https://localhost:8080/"
        }
      },
      "execution_count": 15,
      "outputs": [
        {
          "output_type": "stream",
          "name": "stdout",
          "text": [
            "[(10, 'Mayo', 204, 'Accident'), (11, 'John', 205, 'Diabetes'), (12, 'Walter', 207, 'Parkisnons'), (13, 'WillSmith', 208, 'Night blindness'), (14, 'Danny', 209, 'Rickets'), (10, 'Mayo', 204, 'Accident'), (11, 'John', 205, 'Diabetes'), (12, 'Walter', 207, 'Parkisnons'), (13, 'WillSmith', 208, 'Night blindness'), (14, 'Danny', 209, 'Rickets')]\n"
          ]
        }
      ]
    },
    {
      "cell_type": "code",
      "source": [
        "a.execute(\"delete from patient where ID=12\")\n",
        "a.execute(\"select * from patient\")\n",
        "print(a.fetchall())"
      ],
      "metadata": {
        "id": "wOBGTt4FBeLl",
        "outputId": "0591d175-59e3-4c34-a566-e6fde6417853",
        "colab": {
          "base_uri": "https://localhost:8080/"
        }
      },
      "execution_count": 17,
      "outputs": [
        {
          "output_type": "stream",
          "name": "stdout",
          "text": [
            "[(10, 'Mayo', 204, 'Accident'), (11, 'John', 205, 'Diabetes'), (13, 'WillSmith', 208, 'Night blindness'), (14, 'Danny', 209, 'Rickets'), (10, 'Mayo', 204, 'Accident'), (11, 'John', 205, 'Diabetes'), (13, 'WillSmith', 208, 'Night blindness'), (14, 'Danny', 209, 'Rickets')]\n"
          ]
        }
      ]
    },
    {
      "cell_type": "code",
      "source": [
        "nul = sqlite3.connect(\"Developer db\")\n",
        "b= nul.curor()\n",
        "b.execute(\"Create table table1(name text,Project_name text,status text, projecy_id) \""
      ],
      "metadata": {
        "id": "wzNf0PW0Dxz0"
      },
      "execution_count": null,
      "outputs": []
    },
    {
      "cell_type": "code",
      "source": [
        ""
      ],
      "metadata": {
        "id": "DZ_1LY3QDdBZ"
      },
      "execution_count": null,
      "outputs": []
    }
  ]
}