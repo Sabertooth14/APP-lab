{
  "nbformat": 4,
  "nbformat_minor": 0,
  "metadata": {
    "colab": {
      "name": "Untitled6.ipynb",
      "provenance": [],
      "authorship_tag": "ABX9TyNGTLEnuPf7UU7f2E7K3Nmk",
      "include_colab_link": true
    },
    "kernelspec": {
      "name": "python3",
      "display_name": "Python 3"
    },
    "language_info": {
      "name": "python"
    }
  },
  "cells": [
    {
      "cell_type": "markdown",
      "metadata": {
        "id": "view-in-github",
        "colab_type": "text"
      },
      "source": [
        "<a href=\"https://colab.research.google.com/github/Sabertooth14/APP-lab/blob/main/Untitled6.ipynb\" target=\"_parent\"><img src=\"https://colab.research.google.com/assets/colab-badge.svg\" alt=\"Open In Colab\"/></a>"
      ]
    },
    {
      "cell_type": "code",
      "execution_count": 5,
      "metadata": {
        "colab": {
          "base_uri": "https://localhost:8080/"
        },
        "id": "6k3zYHIXNo5P",
        "outputId": "ce79b1ee-871b-442f-cead-f9887c55b48f"
      },
      "outputs": [
        {
          "output_type": "stream",
          "name": "stdout",
          "text": [
            "[(1, 'Pranav', 'CSE-AI/ML', 9.5), (2, 'Darsh', 'CSE-IT', 9.1), (3, 'Aditi', 'CSE-cyber', 7.5), (4, 'Sanskar', 'CSE-BIg data', 8.9), (5, 'Arunima', 'CSE-AI/ML', 9.6), (6, 'Mihihr', 'CSE-core', 9.75), (1, 'Pranav', 'CSE-AI/ML', 9.5), (2, 'Darsh', 'CSE-IT', 9.1), (3, 'Aditi', 'CSE-cyber', 7.5), (4, 'Sanskar', 'CSE-BIg data', 8.9), (5, 'Arunima', 'CSE-AI/ML', 9.6), (6, 'Mihihr', 'CSE-core', 9.75)]\n"
          ]
        }
      ],
      "source": [
        "import sqlite3\n",
        "con = sqlite3.connect('Students db')\n",
        "c=con.cursor()\n",
        "c.execute(\"Create table if not exists student(ID int, Name text, Dept text, CGPA real)\")\n",
        "c.execute(\"Insert into student values(1,'Pranav','CSE-AI/ML',9.5)\")\n",
        "c.execute(\"Insert into student values(2,'Darsh','CSE-IT',9.1)\")\n",
        "c.execute(\"Insert into student values(3,'Aditi','CSE-cyber',7.5)\")\n",
        "c.execute(\"Insert into student values(4,'Sanskar','CSE-BIg data',8.9)\")\n",
        "c.execute(\"Insert into student values(5,'Arunima','CSE-AI/ML',9.6)\")\n",
        "c.execute(\"Insert into student values(6,'Mihihr','CSE-core',9.75)\")\n",
        "c.execute(\"Select * from student\")\n",
        "con.commit()\n",
        "print(c.fetchall())"
      ]
    },
    {
      "cell_type": "code",
      "source": [
        "c.execute(\"UPDATE student SET Name='Ryan' WHERE ID=1\")\n",
        "c.execute(\"SELECT * FROM student\")\n",
        "con.commit()\n",
        "a=c.fetchall()\n",
        "for i in a:\n",
        "  print(i)"
      ],
      "metadata": {
        "colab": {
          "base_uri": "https://localhost:8080/"
        },
        "id": "_-LSPYHHPbng",
        "outputId": "280a5ac8-bf2f-41a4-85c5-b52f618df8a1"
      },
      "execution_count": 7,
      "outputs": [
        {
          "output_type": "stream",
          "name": "stdout",
          "text": [
            "(1, 'Ryan', 'CSE-AI/ML', 9.5)\n",
            "(2, 'Darsh', 'CSE-IT', 9.1)\n",
            "(3, 'Aditi', 'CSE-cyber', 7.5)\n",
            "(4, 'Sanskar', 'CSE-BIg data', 8.9)\n",
            "(5, 'Arunima', 'CSE-AI/ML', 9.6)\n",
            "(6, 'Mihihr', 'CSE-core', 9.75)\n",
            "(1, 'Ryan', 'CSE-AI/ML', 9.5)\n",
            "(2, 'Darsh', 'CSE-IT', 9.1)\n",
            "(3, 'Aditi', 'CSE-cyber', 7.5)\n",
            "(4, 'Sanskar', 'CSE-BIg data', 8.9)\n",
            "(5, 'Arunima', 'CSE-AI/ML', 9.6)\n",
            "(6, 'Mihihr', 'CSE-core', 9.75)\n"
          ]
        }
      ]
    },
    {
      "cell_type": "code",
      "source": [
        "c.execute(\"DELETE FROM student WHERE ID=6\")\n",
        "c.execute(\"SELECT * FROM student\")\n",
        "con.commit()\n",
        "a=c.fetchall()\n",
        "for i in a:\n",
        "  print(i)\n"
      ],
      "metadata": {
        "colab": {
          "base_uri": "https://localhost:8080/"
        },
        "id": "u05BalQVRsdb",
        "outputId": "29aa64bb-3498-4fa7-f9eb-d5e299263907"
      },
      "execution_count": 8,
      "outputs": [
        {
          "output_type": "stream",
          "name": "stdout",
          "text": [
            "(1, 'Ryan', 'CSE-AI/ML', 9.5)\n",
            "(2, 'Darsh', 'CSE-IT', 9.1)\n",
            "(3, 'Aditi', 'CSE-cyber', 7.5)\n",
            "(4, 'Sanskar', 'CSE-BIg data', 8.9)\n",
            "(5, 'Arunima', 'CSE-AI/ML', 9.6)\n",
            "(1, 'Ryan', 'CSE-AI/ML', 9.5)\n",
            "(2, 'Darsh', 'CSE-IT', 9.1)\n",
            "(3, 'Aditi', 'CSE-cyber', 7.5)\n",
            "(4, 'Sanskar', 'CSE-BIg data', 8.9)\n",
            "(5, 'Arunima', 'CSE-AI/ML', 9.6)\n"
          ]
        }
      ]
    },
    {
      "cell_type": "code",
      "source": [
        "c.execute(\"SELECT * FROM student ORDER BY CGPA DESC\")\n",
        "con.commit()\n",
        "a=c.fetchall()\n",
        "for i in a:\n",
        "  print(i)\n",
        "\n"
      ],
      "metadata": {
        "colab": {
          "base_uri": "https://localhost:8080/"
        },
        "id": "wtwSCC8UX7OB",
        "outputId": "fae2c8f5-7a06-496d-9d69-818b7f1e65d6"
      },
      "execution_count": 9,
      "outputs": [
        {
          "output_type": "stream",
          "name": "stdout",
          "text": [
            "(5, 'Arunima', 'CSE-AI/ML', 9.6)\n",
            "(5, 'Arunima', 'CSE-AI/ML', 9.6)\n",
            "(1, 'Ryan', 'CSE-AI/ML', 9.5)\n",
            "(1, 'Ryan', 'CSE-AI/ML', 9.5)\n",
            "(2, 'Darsh', 'CSE-IT', 9.1)\n",
            "(2, 'Darsh', 'CSE-IT', 9.1)\n",
            "(4, 'Sanskar', 'CSE-BIg data', 8.9)\n",
            "(4, 'Sanskar', 'CSE-BIg data', 8.9)\n",
            "(3, 'Aditi', 'CSE-cyber', 7.5)\n",
            "(3, 'Aditi', 'CSE-cyber', 7.5)\n"
          ]
        }
      ]
    },
    {
      "cell_type": "code",
      "source": [
        "c.execute(\"SELECT * FROM student GROUP BY ID\")\n",
        "con.commit()\n",
        "a=c.fetchall()\n",
        "for i in a:\n",
        "  print(i)"
      ],
      "metadata": {
        "colab": {
          "base_uri": "https://localhost:8080/"
        },
        "id": "6R0VdrUVYSMk",
        "outputId": "b96c1d1b-49bc-4333-86f9-1098d6e0d99b"
      },
      "execution_count": 10,
      "outputs": [
        {
          "output_type": "stream",
          "name": "stdout",
          "text": [
            "(1, 'Ryan', 'CSE-AI/ML', 9.5)\n",
            "(2, 'Darsh', 'CSE-IT', 9.1)\n",
            "(3, 'Aditi', 'CSE-cyber', 7.5)\n",
            "(4, 'Sanskar', 'CSE-BIg data', 8.9)\n",
            "(5, 'Arunima', 'CSE-AI/ML', 9.6)\n"
          ]
        }
      ]
    },
    {
      "cell_type": "code",
      "source": [
        ""
      ],
      "metadata": {
        "id": "NvA7eeT5Zr5p"
      },
      "execution_count": null,
      "outputs": []
    }
  ]
}