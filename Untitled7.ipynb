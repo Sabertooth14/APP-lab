{
  "nbformat": 4,
  "nbformat_minor": 0,
  "metadata": {
    "colab": {
      "name": "Untitled7.ipynb",
      "provenance": [],
      "collapsed_sections": [],
      "authorship_tag": "ABX9TyMQyel9hJV7Bu9Zt/d6g1kH",
      "include_colab_link": true
    },
    "kernelspec": {
      "name": "python3",
      "display_name": "Python 3"
    },
    "language_info": {
      "name": "python"
    }
  },
  "cells": [
    {
      "cell_type": "markdown",
      "metadata": {
        "id": "view-in-github",
        "colab_type": "text"
      },
      "source": [
        "<a href=\"https://colab.research.google.com/github/Sabertooth14/APP-lab/blob/main/Untitled7.ipynb\" target=\"_parent\"><img src=\"https://colab.research.google.com/assets/colab-badge.svg\" alt=\"Open In Colab\"/></a>"
      ]
    },
    {
      "cell_type": "code",
      "execution_count": 2,
      "metadata": {
        "colab": {
          "base_uri": "https://localhost:8080/"
        },
        "id": "RBNDpfypBk-M",
        "outputId": "5ab80924-ecae-4687-cd45-59ef79dba347"
      },
      "outputs": [
        {
          "output_type": "stream",
          "name": "stdout",
          "text": [
            "(1, 'Pranav', 'Karukayil', 'pk@gmil.com', 384739299, -12, 1, 30000, 12000, 2, 3)\n",
            "(2, 'Darsh', 'Sanklehca', 'ds@gmail.com', 672634848, -12, 2, 27000, 10000, 3, 1)\n",
            "(3, 'Aditi', 'Tripathi', 'at@yahoo.com', 346538299, -12, 3, 16500, 9000, 1, 3)\n",
            "(4, 'Sanskar', 'Maheshwari', 'sm@hotmail.com', 87631093, -12, 4, 22800, 10000, 3, 2)\n",
            "(5, 'Arunima', 'Karukayil', 'ak@hotmail.com', 90382625, -12, 5, 25000, 11000, 2, 1)\n",
            "(6, 'Mihihr', 'Ghanekar', 'mk@yahoo.com', 546281913, -12, 6, 33000, 11500, 1, 2)\n"
          ]
        }
      ],
      "source": [
        "import sqlite3\n",
        "con = sqlite3.connect('Employees db')\n",
        "c=con.cursor()\n",
        "c.execute(\"Create table if not exists student(employee_ID int, First_Name text,Last_Name text,email text,phone int,hire_date date,job_id int,salary int,comission int,manager_id int,dept_id int)\")\n",
        "c.execute(\"Insert into student values(1,'Pranav','Karukayil','pk@gmil.com',384739299,12-1-23,1,30000,12000,2,3)\")\n",
        "c.execute(\"Insert into student values(2,'Darsh','Sanklehca','ds@gmail.com',672634848,13-2-23,2,27000,10000,3,1)\")\n",
        "c.execute(\"Insert into student values(3,'Aditi','Tripathi','at@yahoo.com',346538299,14-3-23,3,16500,9000,1,3)\")\n",
        "c.execute(\"Insert into student values(4,'Sanskar','Maheshwari','sm@hotmail.com',87631093,15-4-23,4,22800,10000,3,2)\")\n",
        "c.execute(\"Insert into student values(5,'Arunima','Karukayil','ak@hotmail.com',90382625,16-5-23,5,25000,11000,2,1)\")\n",
        "c.execute(\"Insert into student values(6,'Mihihr','Ghanekar','mk@yahoo.com',546281913,17-6-23,6,33000,11500,1,2)\")\n",
        "c.execute(\"Select * from student\")\n",
        "con.commit()\n",
        "a = c.fetchall()\n",
        "for i in a:\n",
        "  print(i)"
      ]
    },
    {
      "cell_type": "code",
      "source": [
        "\n",
        "c.execute(\"SELECT first_name,last_name FROM student WHERE salary>25000\")\n",
        "con.commit()\n",
        "a=c.fetchall()\n",
        "for i in a:\n",
        "  print(i)"
      ],
      "metadata": {
        "colab": {
          "base_uri": "https://localhost:8080/"
        },
        "id": "2oqTN-q6FxH4",
        "outputId": "8d70848c-4131-4c66-97f2-3c9638ad9603"
      },
      "execution_count": 3,
      "outputs": [
        {
          "output_type": "stream",
          "name": "stdout",
          "text": [
            "('Pranav', 'Karukayil')\n",
            "('Darsh', 'Sanklehca')\n",
            "('Mihihr', 'Ghanekar')\n"
          ]
        }
      ]
    },
    {
      "cell_type": "code",
      "source": [
        "c.execute(\"Create table if not exists table1(Reg_no int,name text,sex text)\")\n",
        "c.execute(\"Insert into table1 values(186,'Pranav','Male')\")\n",
        "c.execute(\"Insert into table1 values(202,'Darsh','Male')\")\n",
        "c.execute(\"Insert into table1 values(193,'Aditi','Female')\")\n",
        "c.execute(\"Create table if not exists table2(dept_no int,dept_name text)\")\n",
        "c.execute(\"Insert into table2 values(3,'CSE-AI ML')\")\n",
        "c.execute(\"Insert into table2 values(1,'ECE')\")\n",
        "c.execute(\"Insert into table2 values(2,'Biotech')\")\n",
        "c.execute(\"Select * from table1,table2\")\n",
        "con.commit()\n",
        "a=c.fetchall()\n",
        "for i in a:\n",
        "  print(i)\n"
      ],
      "metadata": {
        "colab": {
          "base_uri": "https://localhost:8080/"
        },
        "id": "Ju0UcSeOGTqX",
        "outputId": "4c0fa813-43b1-4701-990a-e20a64022e70"
      },
      "execution_count": 9,
      "outputs": [
        {
          "output_type": "stream",
          "name": "stdout",
          "text": [
            "(186, 'Pranav', 'Male', 3, 'CSE-AI ML')\n",
            "(186, 'Pranav', 'Male', 1, 'ECE')\n",
            "(186, 'Pranav', 'Male', 2, 'Biotech')\n",
            "(202, 'Darsh', 'Male', 3, 'CSE-AI ML')\n",
            "(202, 'Darsh', 'Male', 1, 'ECE')\n",
            "(202, 'Darsh', 'Male', 2, 'Biotech')\n",
            "(193, 'Aditi', 'Female', 3, 'CSE-AI ML')\n",
            "(193, 'Aditi', 'Female', 1, 'ECE')\n",
            "(193, 'Aditi', 'Female', 2, 'Biotech')\n",
            "(186, 'Pranav', 'Male', 3, 'CSE-AI ML')\n",
            "(186, 'Pranav', 'Male', 1, 'ECE')\n",
            "(186, 'Pranav', 'Male', 2, 'Biotech')\n",
            "(202, 'Darsh', 'Male', 3, 'CSE-AI ML')\n",
            "(202, 'Darsh', 'Male', 1, 'ECE')\n",
            "(202, 'Darsh', 'Male', 2, 'Biotech')\n",
            "(193, 'Aditi', 'Female', 3, 'CSE-AI ML')\n",
            "(193, 'Aditi', 'Female', 1, 'ECE')\n",
            "(193, 'Aditi', 'Female', 2, 'Biotech')\n"
          ]
        }
      ]
    },
    {
      "cell_type": "code",
      "source": [
        "c.execute(\"SELECT name FROM table1 WHERE sex='Female'\")\n",
        "con.commit()\n",
        "print(c.fetchall())\n"
      ],
      "metadata": {
        "colab": {
          "base_uri": "https://localhost:8080/"
        },
        "id": "MegABrgWKulm",
        "outputId": "718fae7e-b8e9-4e24-c60c-530757d65057"
      },
      "execution_count": 11,
      "outputs": [
        {
          "output_type": "stream",
          "name": "stdout",
          "text": [
            "[('Aditi',), ('Aditi',)]\n"
          ]
        }
      ]
    },
    {
      "cell_type": "code",
      "source": [
        "c.execute(\"SELECT * FROM table1 ORDER BY Reg_no\")\n",
        "a = c.fetchall()\n",
        "for i in a: \n",
        "  print(i)\n"
      ],
      "metadata": {
        "colab": {
          "base_uri": "https://localhost:8080/"
        },
        "id": "jYbT5C7AK_Ol",
        "outputId": "f1b21f47-1762-420b-8361-7930d4c4a378"
      },
      "execution_count": 12,
      "outputs": [
        {
          "output_type": "stream",
          "name": "stdout",
          "text": [
            "(186, 'Pranav', 'Male')\n",
            "(186, 'Pranav', 'Male')\n",
            "(193, 'Aditi', 'Female')\n",
            "(193, 'Aditi', 'Female')\n",
            "(202, 'Darsh', 'Male')\n",
            "(202, 'Darsh', 'Male')\n"
          ]
        }
      ]
    },
    {
      "cell_type": "code",
      "source": [
        "c.execute(\"Create table if not exists movies(id int,name text, genre text,language text,rating int)\")\n",
        "c.execute(\"Insert into movies values(101,'Conjouring','Horror','English',3)\")\n",
        "c.execute(\"Insert into movies values(102,'Cars','Animated','English',2)\")\n",
        "c.execute(\"Insert into movies values(103,'Inception','Sci-fi','English',4)\")\n",
        "c.execute(\"Insert into movies values(104,'Interstellar','Sci-fi','English',5)\")\n",
        "c.execute(\"Insert into movies values(105,'Dont Breathe','Thriller','English',3)\")\n",
        "c.execute(\"Insert into movies values(106,'Shutter Island','Thriller','English',5)\")\n",
        "c.execute(\"Select * from movies\")\n",
        "con.commit()\n",
        "a = c.fetchall()\n",
        "for i in a:\n",
        "  print(i)"
      ],
      "metadata": {
        "colab": {
          "base_uri": "https://localhost:8080/"
        },
        "id": "t9t9ATvhLkG_",
        "outputId": "fd37fa5b-2b16-49c8-af4d-24e8a0f2bbb8"
      },
      "execution_count": 18,
      "outputs": [
        {
          "output_type": "stream",
          "name": "stdout",
          "text": [
            "(101, 'Conjouring', 'Horror', 'English', 3)\n",
            "(101, 'Conjouring', 'Horror', 'English', 3)\n",
            "(102, 'Cars', 'Animated', 'English', 2)\n",
            "(103, 'Inception', 'Sci-fi', 'English', 4)\n",
            "(103, 'Interstellar', 'Sci-fi', 'English', 5)\n",
            "(101, 'Conjouring', 'Horror', 'English', 3)\n",
            "(102, 'Cars', 'Animated', 'English', 2)\n",
            "(103, 'Inception', 'Sci-fi', 'English', 4)\n",
            "(103, 'Interstellar', 'Sci-fi', 'English', 5)\n",
            "(103, 'Dont Breathe', 'Thriller', 'English', 3)\n",
            "(103, 'Shutter Island', 'Thriller', 'English', 5)\n",
            "(101, 'Conjouring', 'Horror', 'English', 3)\n",
            "(102, 'Cars', 'Animated', 'English', 2)\n",
            "(103, 'Inception', 'Sci-fi', 'English', 4)\n",
            "(104, 'Interstellar', 'Sci-fi', 'English', 5)\n",
            "(105, 'Dont Breathe', 'Thriller', 'English', 3)\n",
            "(106, 'Shutter Island', 'Thriller', 'English', 5)\n"
          ]
        }
      ]
    },
    {
      "cell_type": "code",
      "source": [
        "c.execute(\"Select * FROM movies WHERE rating>3\")\n",
        "con.commit()\n",
        "a = c.fetchall()\n",
        "for i in a:\n",
        "  print(i)"
      ],
      "metadata": {
        "colab": {
          "base_uri": "https://localhost:8080/"
        },
        "id": "W2_hZK1LNxOp",
        "outputId": "a9184055-1f09-4402-d169-177570cd0303"
      },
      "execution_count": 19,
      "outputs": [
        {
          "output_type": "stream",
          "name": "stdout",
          "text": [
            "(103, 'Inception', 'Sci-fi', 'English', 4)\n",
            "(103, 'Interstellar', 'Sci-fi', 'English', 5)\n",
            "(103, 'Inception', 'Sci-fi', 'English', 4)\n",
            "(103, 'Interstellar', 'Sci-fi', 'English', 5)\n",
            "(103, 'Shutter Island', 'Thriller', 'English', 5)\n",
            "(103, 'Inception', 'Sci-fi', 'English', 4)\n",
            "(104, 'Interstellar', 'Sci-fi', 'English', 5)\n",
            "(106, 'Shutter Island', 'Thriller', 'English', 5)\n"
          ]
        }
      ]
    },
    {
      "cell_type": "code",
      "source": [
        "c.execute(\"DELETE FROM movies WHERE id=102\")\n",
        "con.commit()\n",
        "print(c.fetchall())"
      ],
      "metadata": {
        "colab": {
          "base_uri": "https://localhost:8080/"
        },
        "id": "G3FWAH_UOcu0",
        "outputId": "390fb632-3ba7-493d-f0c6-2726f6b6dae3"
      },
      "execution_count": 20,
      "outputs": [
        {
          "output_type": "stream",
          "name": "stdout",
          "text": [
            "[]\n"
          ]
        }
      ]
    },
    {
      "cell_type": "code",
      "source": [
        "c.execute(\"UPDATE\")"
      ],
      "metadata": {
        "id": "ZN5N6cygO5Qn"
      },
      "execution_count": null,
      "outputs": []
    }
  ]
}